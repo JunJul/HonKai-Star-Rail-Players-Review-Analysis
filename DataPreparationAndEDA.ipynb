{
 "cells": [
  {
   "cell_type": "markdown",
   "id": "c89bde48-f2b9-4e7e-a7dd-d35660a794f2",
   "metadata": {},
   "source": [
    "### This notebook focus on data preparation to prepare data to be a modeling dataste. I will conduct simple EDA to understand the ratings over each version of Honkai: Star Rail and general opinion on this game. "
   ]
  },
  {
   "cell_type": "code",
   "execution_count": 1,
   "id": "d079bf77-ec6e-402c-be8b-cd44e768bd12",
   "metadata": {},
   "outputs": [],
   "source": [
    "import os\n",
    "import pandas as pd\n",
    "import numpy as np\n",
    "import seaborn as sns\n",
    "import matplotlib.pyplot as plt\n",
    "from datetime import datetime"
   ]
  },
  {
   "cell_type": "code",
   "execution_count": 2,
   "id": "b5f8a4d5-7c2f-4a8e-9411-231fba530e0f",
   "metadata": {},
   "outputs": [],
   "source": [
    "sns.set_style(\"darkgrid\")"
   ]
  },
  {
   "cell_type": "markdown",
   "id": "d07f81d7-50ad-4847-a7cf-e27cf16e2ec0",
   "metadata": {},
   "source": [
    "## Data Preparation"
   ]
  },
  {
   "cell_type": "markdown",
   "id": "1c2f899d-f222-43db-90ed-274c328d5bf0",
   "metadata": {},
   "source": [
    "#### This is a sentimental analysis project and an supervisied learning task. The label is the rating column and the feature is the snippet (Review) column.\n",
    "\n",
    "#### Encode postive if rating is equal to and above 4; otherwise, encode negative.\n",
    "\n",
    "#### Remove id, title, avatar, and iso_date\n",
    "\n",
    "#### keep rating, snippet, likes, date, and response.\n",
    "\n",
    "#### Even though this project is a sentimental analysis,  likes, date, and response feature may be a good for EDA to discover some inisghts from the game.\n"
   ]
  },
  {
   "cell_type": "markdown",
   "id": "30879af4-5ff4-40b4-ab90-fc867aad03a8",
   "metadata": {},
   "source": [
    "### Read CSV"
   ]
  },
  {
   "cell_type": "code",
   "execution_count": 3,
   "id": "93be42b5-ad4f-4d7e-8955-9af2de101caf",
   "metadata": {},
   "outputs": [],
   "source": [
    "df = pd.read_csv(\"Honkai-Star_Rail.csv\")"
   ]
  },
  {
   "cell_type": "code",
   "execution_count": 4,
   "id": "453f787c-9b9c-4278-babc-1f7f7cdbe0e0",
   "metadata": {},
   "outputs": [
    {
     "data": {
      "text/html": [
       "<div>\n",
       "<style scoped>\n",
       "    .dataframe tbody tr th:only-of-type {\n",
       "        vertical-align: middle;\n",
       "    }\n",
       "\n",
       "    .dataframe tbody tr th {\n",
       "        vertical-align: top;\n",
       "    }\n",
       "\n",
       "    .dataframe thead th {\n",
       "        text-align: right;\n",
       "    }\n",
       "</style>\n",
       "<table border=\"1\" class=\"dataframe\">\n",
       "  <thead>\n",
       "    <tr style=\"text-align: right;\">\n",
       "      <th></th>\n",
       "      <th>id</th>\n",
       "      <th>title</th>\n",
       "      <th>avatar</th>\n",
       "      <th>rating</th>\n",
       "      <th>snippet</th>\n",
       "      <th>likes</th>\n",
       "      <th>date</th>\n",
       "      <th>iso_date</th>\n",
       "      <th>response</th>\n",
       "    </tr>\n",
       "  </thead>\n",
       "  <tbody>\n",
       "    <tr>\n",
       "      <th>0</th>\n",
       "      <td>643cc314-5ec6-47c7-b721-329f6d5f74a0</td>\n",
       "      <td>Elnaz Jahed</td>\n",
       "      <td>https://play-lh.googleusercontent.com/a-/ALV-U...</td>\n",
       "      <td>4.0</td>\n",
       "      <td>The combat is turn-based which is not my favor...</td>\n",
       "      <td>448</td>\n",
       "      <td>June 19, 2024</td>\n",
       "      <td>2024-06-19T12:54:28Z</td>\n",
       "      <td>NaN</td>\n",
       "    </tr>\n",
       "    <tr>\n",
       "      <th>1</th>\n",
       "      <td>7c17c69b-abe6-4571-b4a9-d2175646d4f3</td>\n",
       "      <td>Carlos Vargas</td>\n",
       "      <td>https://play-lh.googleusercontent.com/a-/ALV-U...</td>\n",
       "      <td>3.0</td>\n",
       "      <td>The constant grind for materials to activate c...</td>\n",
       "      <td>49</td>\n",
       "      <td>July 05, 2024</td>\n",
       "      <td>2024-07-05T07:14:29Z</td>\n",
       "      <td>NaN</td>\n",
       "    </tr>\n",
       "    <tr>\n",
       "      <th>2</th>\n",
       "      <td>27d2bdca-a653-4914-90bd-aa56dcaac4dd</td>\n",
       "      <td>samantha</td>\n",
       "      <td>https://play-lh.googleusercontent.com/a-/ALV-U...</td>\n",
       "      <td>5.0</td>\n",
       "      <td>I love this game so much. The only mobile game...</td>\n",
       "      <td>144</td>\n",
       "      <td>July 12, 2024</td>\n",
       "      <td>2024-07-12T02:53:45Z</td>\n",
       "      <td>NaN</td>\n",
       "    </tr>\n",
       "    <tr>\n",
       "      <th>3</th>\n",
       "      <td>7a684049-22da-4ace-b0da-53d4c19a3dbc</td>\n",
       "      <td>Lillian McCall-Bush</td>\n",
       "      <td>https://play-lh.googleusercontent.com/a-/ALV-U...</td>\n",
       "      <td>4.0</td>\n",
       "      <td>I love this game. It has amazing story and cha...</td>\n",
       "      <td>64</td>\n",
       "      <td>June 30, 2024</td>\n",
       "      <td>2024-06-30T19:29:01Z</td>\n",
       "      <td>NaN</td>\n",
       "    </tr>\n",
       "    <tr>\n",
       "      <th>4</th>\n",
       "      <td>0de8422c-87d1-461e-bcea-7f7e5bfba373</td>\n",
       "      <td>Wesley Li</td>\n",
       "      <td>https://play-lh.googleusercontent.com/a-/ALV-U...</td>\n",
       "      <td>5.0</td>\n",
       "      <td>Decent game overall. Beautiful character and m...</td>\n",
       "      <td>427</td>\n",
       "      <td>June 18, 2024</td>\n",
       "      <td>2024-06-18T19:00:33Z</td>\n",
       "      <td>NaN</td>\n",
       "    </tr>\n",
       "  </tbody>\n",
       "</table>\n",
       "</div>"
      ],
      "text/plain": [
       "                                     id                title  \\\n",
       "0  643cc314-5ec6-47c7-b721-329f6d5f74a0          Elnaz Jahed   \n",
       "1  7c17c69b-abe6-4571-b4a9-d2175646d4f3        Carlos Vargas   \n",
       "2  27d2bdca-a653-4914-90bd-aa56dcaac4dd             samantha   \n",
       "3  7a684049-22da-4ace-b0da-53d4c19a3dbc  Lillian McCall-Bush   \n",
       "4  0de8422c-87d1-461e-bcea-7f7e5bfba373            Wesley Li   \n",
       "\n",
       "                                              avatar  rating  \\\n",
       "0  https://play-lh.googleusercontent.com/a-/ALV-U...     4.0   \n",
       "1  https://play-lh.googleusercontent.com/a-/ALV-U...     3.0   \n",
       "2  https://play-lh.googleusercontent.com/a-/ALV-U...     5.0   \n",
       "3  https://play-lh.googleusercontent.com/a-/ALV-U...     4.0   \n",
       "4  https://play-lh.googleusercontent.com/a-/ALV-U...     5.0   \n",
       "\n",
       "                                             snippet  likes           date  \\\n",
       "0  The combat is turn-based which is not my favor...    448  June 19, 2024   \n",
       "1  The constant grind for materials to activate c...     49  July 05, 2024   \n",
       "2  I love this game so much. The only mobile game...    144  July 12, 2024   \n",
       "3  I love this game. It has amazing story and cha...     64  June 30, 2024   \n",
       "4  Decent game overall. Beautiful character and m...    427  June 18, 2024   \n",
       "\n",
       "               iso_date response  \n",
       "0  2024-06-19T12:54:28Z      NaN  \n",
       "1  2024-07-05T07:14:29Z      NaN  \n",
       "2  2024-07-12T02:53:45Z      NaN  \n",
       "3  2024-06-30T19:29:01Z      NaN  \n",
       "4  2024-06-18T19:00:33Z      NaN  "
      ]
     },
     "execution_count": 4,
     "metadata": {},
     "output_type": "execute_result"
    }
   ],
   "source": [
    "df.head()"
   ]
  },
  {
   "cell_type": "markdown",
   "id": "8b68c353-a5ac-4c86-96df-f7df054b2226",
   "metadata": {},
   "source": [
    "### Drop features"
   ]
  },
  {
   "cell_type": "code",
   "execution_count": 5,
   "id": "13442c96-02e1-4f67-b4bb-9a83d5fad11b",
   "metadata": {},
   "outputs": [],
   "source": [
    "df = df.drop([\"id\", \"title\", \"avatar\", \"iso_date\"], axis=1)"
   ]
  },
  {
   "cell_type": "code",
   "execution_count": 6,
   "id": "57f6e2fe-d5d9-4732-b34f-5c143da4e240",
   "metadata": {},
   "outputs": [
    {
     "data": {
      "text/html": [
       "<div>\n",
       "<style scoped>\n",
       "    .dataframe tbody tr th:only-of-type {\n",
       "        vertical-align: middle;\n",
       "    }\n",
       "\n",
       "    .dataframe tbody tr th {\n",
       "        vertical-align: top;\n",
       "    }\n",
       "\n",
       "    .dataframe thead th {\n",
       "        text-align: right;\n",
       "    }\n",
       "</style>\n",
       "<table border=\"1\" class=\"dataframe\">\n",
       "  <thead>\n",
       "    <tr style=\"text-align: right;\">\n",
       "      <th></th>\n",
       "      <th>rating</th>\n",
       "      <th>snippet</th>\n",
       "      <th>likes</th>\n",
       "      <th>date</th>\n",
       "      <th>response</th>\n",
       "    </tr>\n",
       "  </thead>\n",
       "  <tbody>\n",
       "    <tr>\n",
       "      <th>0</th>\n",
       "      <td>4.0</td>\n",
       "      <td>The combat is turn-based which is not my favor...</td>\n",
       "      <td>448</td>\n",
       "      <td>June 19, 2024</td>\n",
       "      <td>NaN</td>\n",
       "    </tr>\n",
       "    <tr>\n",
       "      <th>1</th>\n",
       "      <td>3.0</td>\n",
       "      <td>The constant grind for materials to activate c...</td>\n",
       "      <td>49</td>\n",
       "      <td>July 05, 2024</td>\n",
       "      <td>NaN</td>\n",
       "    </tr>\n",
       "    <tr>\n",
       "      <th>2</th>\n",
       "      <td>5.0</td>\n",
       "      <td>I love this game so much. The only mobile game...</td>\n",
       "      <td>144</td>\n",
       "      <td>July 12, 2024</td>\n",
       "      <td>NaN</td>\n",
       "    </tr>\n",
       "    <tr>\n",
       "      <th>3</th>\n",
       "      <td>4.0</td>\n",
       "      <td>I love this game. It has amazing story and cha...</td>\n",
       "      <td>64</td>\n",
       "      <td>June 30, 2024</td>\n",
       "      <td>NaN</td>\n",
       "    </tr>\n",
       "    <tr>\n",
       "      <th>4</th>\n",
       "      <td>5.0</td>\n",
       "      <td>Decent game overall. Beautiful character and m...</td>\n",
       "      <td>427</td>\n",
       "      <td>June 18, 2024</td>\n",
       "      <td>NaN</td>\n",
       "    </tr>\n",
       "  </tbody>\n",
       "</table>\n",
       "</div>"
      ],
      "text/plain": [
       "   rating                                            snippet  likes  \\\n",
       "0     4.0  The combat is turn-based which is not my favor...    448   \n",
       "1     3.0  The constant grind for materials to activate c...     49   \n",
       "2     5.0  I love this game so much. The only mobile game...    144   \n",
       "3     4.0  I love this game. It has amazing story and cha...     64   \n",
       "4     5.0  Decent game overall. Beautiful character and m...    427   \n",
       "\n",
       "            date response  \n",
       "0  June 19, 2024      NaN  \n",
       "1  July 05, 2024      NaN  \n",
       "2  July 12, 2024      NaN  \n",
       "3  June 30, 2024      NaN  \n",
       "4  June 18, 2024      NaN  "
      ]
     },
     "execution_count": 6,
     "metadata": {},
     "output_type": "execute_result"
    }
   ],
   "source": [
    "df.head()"
   ]
  },
  {
   "cell_type": "markdown",
   "id": "b8f39eed-5a2b-452a-b801-833f13b086b2",
   "metadata": {},
   "source": [
    "### Dimension and Data Type"
   ]
  },
  {
   "cell_type": "code",
   "execution_count": 7,
   "id": "ffd355c5-30e8-4424-8a3d-c8395b2cb7fb",
   "metadata": {},
   "outputs": [
    {
     "name": "stdout",
     "output_type": "stream",
     "text": [
      "Number of observations: (19900, 5)\n"
     ]
    }
   ],
   "source": [
    "print(\"Number of observations: {}\".format(df.shape))"
   ]
  },
  {
   "cell_type": "code",
   "execution_count": 8,
   "id": "0e14ebe6-e759-4209-b661-3331d61ac14b",
   "metadata": {},
   "outputs": [
    {
     "name": "stdout",
     "output_type": "stream",
     "text": [
      "<class 'pandas.core.frame.DataFrame'>\n",
      "RangeIndex: 19900 entries, 0 to 19899\n",
      "Data columns (total 5 columns):\n",
      " #   Column    Non-Null Count  Dtype  \n",
      "---  ------    --------------  -----  \n",
      " 0   rating    19900 non-null  float64\n",
      " 1   snippet   19900 non-null  object \n",
      " 2   likes     19900 non-null  int64  \n",
      " 3   date      19900 non-null  object \n",
      " 4   response  960 non-null    object \n",
      "dtypes: float64(1), int64(1), object(3)\n",
      "memory usage: 777.5+ KB\n",
      "None\n"
     ]
    }
   ],
   "source": [
    "print(df.info())"
   ]
  },
  {
   "cell_type": "markdown",
   "id": "93455ae7-3381-4fb2-902e-21cef6173092",
   "metadata": {},
   "source": [
    "### Check missing values"
   ]
  },
  {
   "cell_type": "code",
   "execution_count": 9,
   "id": "07126343-e88e-494d-a530-f6d870b2e136",
   "metadata": {},
   "outputs": [
    {
     "data": {
      "text/plain": [
       "rating          0\n",
       "snippet         0\n",
       "likes           0\n",
       "date            0\n",
       "response    18940\n",
       "dtype: int64"
      ]
     },
     "execution_count": 9,
     "metadata": {},
     "output_type": "execute_result"
    }
   ],
   "source": [
    "df.isnull().sum()"
   ]
  },
  {
   "cell_type": "markdown",
   "id": "7ca2eb52-9776-49da-a501-e065f5d522f2",
   "metadata": {},
   "source": [
    "### Convert date's data type to datetime object"
   ]
  },
  {
   "cell_type": "code",
   "execution_count": 10,
   "id": "1f171d56-3b51-4130-83cb-17f60638c5ab",
   "metadata": {},
   "outputs": [],
   "source": [
    "date_format = \"%B %d, %Y\"\n",
    "new_date = [datetime.strptime(date_string, date_format) for date_string in df.date]\n",
    "\n",
    "df[\"new_date\"] = new_date"
   ]
  },
  {
   "cell_type": "code",
   "execution_count": 11,
   "id": "95489281-ae5e-4f32-ad50-524afa426358",
   "metadata": {},
   "outputs": [
    {
     "data": {
      "text/html": [
       "<div>\n",
       "<style scoped>\n",
       "    .dataframe tbody tr th:only-of-type {\n",
       "        vertical-align: middle;\n",
       "    }\n",
       "\n",
       "    .dataframe tbody tr th {\n",
       "        vertical-align: top;\n",
       "    }\n",
       "\n",
       "    .dataframe thead th {\n",
       "        text-align: right;\n",
       "    }\n",
       "</style>\n",
       "<table border=\"1\" class=\"dataframe\">\n",
       "  <thead>\n",
       "    <tr style=\"text-align: right;\">\n",
       "      <th></th>\n",
       "      <th>rating</th>\n",
       "      <th>snippet</th>\n",
       "      <th>likes</th>\n",
       "      <th>date</th>\n",
       "      <th>response</th>\n",
       "      <th>new_date</th>\n",
       "    </tr>\n",
       "  </thead>\n",
       "  <tbody>\n",
       "    <tr>\n",
       "      <th>0</th>\n",
       "      <td>4.0</td>\n",
       "      <td>The combat is turn-based which is not my favor...</td>\n",
       "      <td>448</td>\n",
       "      <td>June 19, 2024</td>\n",
       "      <td>NaN</td>\n",
       "      <td>2024-06-19</td>\n",
       "    </tr>\n",
       "    <tr>\n",
       "      <th>1</th>\n",
       "      <td>3.0</td>\n",
       "      <td>The constant grind for materials to activate c...</td>\n",
       "      <td>49</td>\n",
       "      <td>July 05, 2024</td>\n",
       "      <td>NaN</td>\n",
       "      <td>2024-07-05</td>\n",
       "    </tr>\n",
       "    <tr>\n",
       "      <th>2</th>\n",
       "      <td>5.0</td>\n",
       "      <td>I love this game so much. The only mobile game...</td>\n",
       "      <td>144</td>\n",
       "      <td>July 12, 2024</td>\n",
       "      <td>NaN</td>\n",
       "      <td>2024-07-12</td>\n",
       "    </tr>\n",
       "    <tr>\n",
       "      <th>3</th>\n",
       "      <td>4.0</td>\n",
       "      <td>I love this game. It has amazing story and cha...</td>\n",
       "      <td>64</td>\n",
       "      <td>June 30, 2024</td>\n",
       "      <td>NaN</td>\n",
       "      <td>2024-06-30</td>\n",
       "    </tr>\n",
       "    <tr>\n",
       "      <th>4</th>\n",
       "      <td>5.0</td>\n",
       "      <td>Decent game overall. Beautiful character and m...</td>\n",
       "      <td>427</td>\n",
       "      <td>June 18, 2024</td>\n",
       "      <td>NaN</td>\n",
       "      <td>2024-06-18</td>\n",
       "    </tr>\n",
       "  </tbody>\n",
       "</table>\n",
       "</div>"
      ],
      "text/plain": [
       "   rating                                            snippet  likes  \\\n",
       "0     4.0  The combat is turn-based which is not my favor...    448   \n",
       "1     3.0  The constant grind for materials to activate c...     49   \n",
       "2     5.0  I love this game so much. The only mobile game...    144   \n",
       "3     4.0  I love this game. It has amazing story and cha...     64   \n",
       "4     5.0  Decent game overall. Beautiful character and m...    427   \n",
       "\n",
       "            date response   new_date  \n",
       "0  June 19, 2024      NaN 2024-06-19  \n",
       "1  July 05, 2024      NaN 2024-07-05  \n",
       "2  July 12, 2024      NaN 2024-07-12  \n",
       "3  June 30, 2024      NaN 2024-06-30  \n",
       "4  June 18, 2024      NaN 2024-06-18  "
      ]
     },
     "execution_count": 11,
     "metadata": {},
     "output_type": "execute_result"
    }
   ],
   "source": [
    "df.head()"
   ]
  },
  {
   "cell_type": "code",
   "execution_count": 12,
   "id": "8cce1aae-a805-462a-9b54-17464a35ae80",
   "metadata": {},
   "outputs": [
    {
     "name": "stdout",
     "output_type": "stream",
     "text": [
      "<class 'pandas.core.frame.DataFrame'>\n",
      "RangeIndex: 19900 entries, 0 to 19899\n",
      "Data columns (total 6 columns):\n",
      " #   Column    Non-Null Count  Dtype         \n",
      "---  ------    --------------  -----         \n",
      " 0   rating    19900 non-null  float64       \n",
      " 1   snippet   19900 non-null  object        \n",
      " 2   likes     19900 non-null  int64         \n",
      " 3   date      19900 non-null  object        \n",
      " 4   response  960 non-null    object        \n",
      " 5   new_date  19900 non-null  datetime64[ns]\n",
      "dtypes: datetime64[ns](1), float64(1), int64(1), object(3)\n",
      "memory usage: 932.9+ KB\n"
     ]
    }
   ],
   "source": [
    "df.info()"
   ]
  },
  {
   "cell_type": "markdown",
   "id": "88e1216a-7a4a-4636-ab6b-2235c411dbf9",
   "metadata": {},
   "source": [
    "### Map the ratings to positive or negative "
   ]
  },
  {
   "cell_type": "code",
   "execution_count": 37,
   "id": "f632406f-dd8b-42df-9742-9d64c55e1fc2",
   "metadata": {},
   "outputs": [],
   "source": [
    "# change rating's data type to integer\n",
    "df[\"rating\"] = df.rating.astype(int)"
   ]
  },
  {
   "cell_type": "code",
   "execution_count": 66,
   "id": "1d0fa0d7-5917-450c-a342-7a2d78c3c35d",
   "metadata": {},
   "outputs": [
    {
     "data": {
      "image/png": "[encoded data removed]",
      "text/plain": [
       "<Figure size 640x480 with 1 Axes>"
      ]
     },
     "metadata": {},
     "output_type": "display_data"
    }
   ],
   "source": [
    "# show the number of observation for each class\n",
    "df[\"rating\"].value_counts().sort_values(ascending=False).plot.bar()\n",
    "plt.xticks(rotation=0) \n",
    "plt.title(\"count vs rating\")\n",
    "plt.show()"
   ]
  },
  {
   "cell_type": "markdown",
   "id": "20e4900a-d4d1-468f-adc8-95b30f9c7d27",
   "metadata": {},
   "source": [
    "#### The highest rating is 5 and the lowest rating is 2\n",
    "\n",
    "#### Many players rate Honkai: Star Rail 5 stars "
   ]
  },
  {
   "cell_type": "code",
   "execution_count": 15,
   "id": "864e08d4-959d-4600-8a9c-2b3bf0b51115",
   "metadata": {},
   "outputs": [],
   "source": [
    "# if the rating is euqal to or above 4 Positive; otherwise Negative\n",
    "new_rating = [\"Positive\" if rating >= 4 else \"Negative\" for rating in df.rating]"
   ]
  },
  {
   "cell_type": "code",
   "execution_count": 16,
   "id": "fe347082-27e0-4874-8518-d8c67353c49f",
   "metadata": {},
   "outputs": [],
   "source": [
    "df[\"new_rating\"] = new_rating"
   ]
  },
  {
   "cell_type": "code",
   "execution_count": 17,
   "id": "1ef1c150-84d5-4634-9da1-f8fe224c0fa8",
   "metadata": {},
   "outputs": [
    {
     "data": {
      "text/html": [
       "<div>\n",
       "<style scoped>\n",
       "    .dataframe tbody tr th:only-of-type {\n",
       "        vertical-align: middle;\n",
       "    }\n",
       "\n",
       "    .dataframe tbody tr th {\n",
       "        vertical-align: top;\n",
       "    }\n",
       "\n",
       "    .dataframe thead th {\n",
       "        text-align: right;\n",
       "    }\n",
       "</style>\n",
       "<table border=\"1\" class=\"dataframe\">\n",
       "  <thead>\n",
       "    <tr style=\"text-align: right;\">\n",
       "      <th></th>\n",
       "      <th>rating</th>\n",
       "      <th>snippet</th>\n",
       "      <th>likes</th>\n",
       "      <th>date</th>\n",
       "      <th>response</th>\n",
       "      <th>new_date</th>\n",
       "      <th>new_rating</th>\n",
       "    </tr>\n",
       "  </thead>\n",
       "  <tbody>\n",
       "    <tr>\n",
       "      <th>0</th>\n",
       "      <td>4</td>\n",
       "      <td>The combat is turn-based which is not my favor...</td>\n",
       "      <td>448</td>\n",
       "      <td>June 19, 2024</td>\n",
       "      <td>NaN</td>\n",
       "      <td>2024-06-19</td>\n",
       "      <td>Positive</td>\n",
       "    </tr>\n",
       "    <tr>\n",
       "      <th>1</th>\n",
       "      <td>3</td>\n",
       "      <td>The constant grind for materials to activate c...</td>\n",
       "      <td>49</td>\n",
       "      <td>July 05, 2024</td>\n",
       "      <td>NaN</td>\n",
       "      <td>2024-07-05</td>\n",
       "      <td>Negative</td>\n",
       "    </tr>\n",
       "    <tr>\n",
       "      <th>2</th>\n",
       "      <td>5</td>\n",
       "      <td>I love this game so much. The only mobile game...</td>\n",
       "      <td>144</td>\n",
       "      <td>July 12, 2024</td>\n",
       "      <td>NaN</td>\n",
       "      <td>2024-07-12</td>\n",
       "      <td>Positive</td>\n",
       "    </tr>\n",
       "    <tr>\n",
       "      <th>3</th>\n",
       "      <td>4</td>\n",
       "      <td>I love this game. It has amazing story and cha...</td>\n",
       "      <td>64</td>\n",
       "      <td>June 30, 2024</td>\n",
       "      <td>NaN</td>\n",
       "      <td>2024-06-30</td>\n",
       "      <td>Positive</td>\n",
       "    </tr>\n",
       "    <tr>\n",
       "      <th>4</th>\n",
       "      <td>5</td>\n",
       "      <td>Decent game overall. Beautiful character and m...</td>\n",
       "      <td>427</td>\n",
       "      <td>June 18, 2024</td>\n",
       "      <td>NaN</td>\n",
       "      <td>2024-06-18</td>\n",
       "      <td>Positive</td>\n",
       "    </tr>\n",
       "  </tbody>\n",
       "</table>\n",
       "</div>"
      ],
      "text/plain": [
       "   rating                                            snippet  likes  \\\n",
       "0       4  The combat is turn-based which is not my favor...    448   \n",
       "1       3  The constant grind for materials to activate c...     49   \n",
       "2       5  I love this game so much. The only mobile game...    144   \n",
       "3       4  I love this game. It has amazing story and cha...     64   \n",
       "4       5  Decent game overall. Beautiful character and m...    427   \n",
       "\n",
       "            date response   new_date new_rating  \n",
       "0  June 19, 2024      NaN 2024-06-19   Positive  \n",
       "1  July 05, 2024      NaN 2024-07-05   Negative  \n",
       "2  July 12, 2024      NaN 2024-07-12   Positive  \n",
       "3  June 30, 2024      NaN 2024-06-30   Positive  \n",
       "4  June 18, 2024      NaN 2024-06-18   Positive  "
      ]
     },
     "execution_count": 17,
     "metadata": {},
     "output_type": "execute_result"
    }
   ],
   "source": [
    "df.head()"
   ]
  },
  {
   "cell_type": "code",
   "execution_count": 18,
   "id": "5851e0c9-2144-41fd-a7d1-c3631e744c5e",
   "metadata": {},
   "outputs": [
    {
     "data": {
      "image/png": "[encoded data removed]",
      "text/plain": [
       "<Figure size 640x480 with 1 Axes>"
      ]
     },
     "metadata": {},
     "output_type": "display_data"
    }
   ],
   "source": [
    "# show the number of observations of Positive and Negative\n",
    "sns.barplot(df.new_rating.value_counts())\n",
    "plt.xlabel(\"New Rating\")\n",
    "plt.ylabel(\"Count\")\n",
    "plt.title(\"count vs new rating\")\n",
    "plt.show()"
   ]
  },
  {
   "cell_type": "markdown",
   "id": "31e98737-c264-472c-9eb5-f914c52b71b6",
   "metadata": {},
   "source": [
    "#### After econding the rating label, the plot shows that the Positive rating is more than Negative rating "
   ]
  },
  {
   "cell_type": "code",
   "execution_count": 67,
   "id": "18039b15-e11f-499f-9a34-9eda6b1d3d15",
   "metadata": {},
   "outputs": [
    {
     "data": {
      "image/png": "[encoded data removed]",
      "text/plain": [
       "<Figure size 640x480 with 1 Axes>"
      ]
     },
     "metadata": {},
     "output_type": "display_data"
    }
   ],
   "source": [
    "plt.pie(\n",
    "    df.new_rating.value_counts() / np.sum(df.new_rating.value_counts()),\n",
    "    labels=[\"Positive\", \"Negative\"],\n",
    "    autopct='%1.1f%%',\n",
    "    explode=[0.01, 0]\n",
    "    )\n",
    "plt.title(\"Class Observations Pie Chart\")\n",
    "plt.show()"
   ]
  },
  {
   "cell_type": "markdown",
   "id": "b44ecb96-44c5-4322-a38b-9f022ff81f08",
   "metadata": {},
   "source": [
    "#### Look into the ratio of two classes in the rating label, the Positive class is 66.4% and the Ngeative class is 33.6% in the overall number of class observations\n",
    "\n",
    "#### This is a class imbalance issue and may lead to a bias model, but the main idea here is to undertsand what things players have complainted about the game."
   ]
  },
  {
   "cell_type": "markdown",
   "id": "185a9d3f-12c5-4eb0-bff5-65b20c5da231",
   "metadata": {},
   "source": [
    "## Date of Reviews"
   ]
  },
  {
   "cell_type": "code",
   "execution_count": 76,
   "id": "bc6f951d-fae5-45ee-9a8f-2a9a4cce1143",
   "metadata": {},
   "outputs": [
    {
     "name": "stdout",
     "output_type": "stream",
     "text": [
      "The most recent review: 2024-08-01 00:00:00\n",
      "The oldest review: 2023-04-23 00:00:00\n"
     ]
    }
   ],
   "source": [
    "print(\"The most recent review: {}\".format(max(df[\"new_date\"])))\n",
    "print(\"The oldest review: {}\".format(min(df[\"new_date\"])))"
   ]
  },
  {
   "cell_type": "markdown",
   "id": "6351ce74-d1c2-4ee7-a663-256a5348a60a",
   "metadata": {},
   "source": [
    "#### The reviews I scraped are between 2023-04-23 and 2024-08-01.\n",
    "\n",
    "#### Among the time period, Honkai: Star Rail released totally 12 versions: 1.0, 1.1, ....., 2.3, 2.4\n",
    "\n",
    "#### Each version released date: https://honkai-star-rail.fandom.com/wiki/Version"
   ]
  },
  {
   "cell_type": "markdown",
   "id": "68ba4bcb-fbd7-4dfa-9694-9054c34d5d8a",
   "metadata": {},
   "source": [
    "## Create a game_version column: which version did each player comment on "
   ]
  },
  {
   "cell_type": "code",
   "execution_count": 93,
   "id": "261581b0-96a8-44df-bd17-a784c237602f",
   "metadata": {},
   "outputs": [],
   "source": [
    "# create a copy of the dataframe\n",
    "df2 = df.copy()\n",
    "\n",
    "# create the corresponding bins\n",
    "date_bins = [\"2023-04-22\", \"2023-06-06\", \"2023-07-18\", \"2023-08-29\", \n",
    "     \"2023-10-10\", \"2023-11-14\", \"2023-12-26\", \"2024-02-05\", \n",
    "     \"2024-03-26\", \"2024-05-07\", \"2024-06-18\", \"2024-07-30\", \"2024-8-01\"]\n",
    "\n",
    "# create the corresponding labels\n",
    "version_labels = [1.0, 1.1, 1.2, 1.3, 1.4, 1.5, 1.6, \n",
    "                  2.0, 2.1, 2.2, 2.3, 2.4]\n",
    "\n",
    "# transform the bins to datetime object\n",
    "date_bins = pd.to_datetime(date_bins)\n",
    "\n",
    "# create the feature according to the bins and labels\n",
    "    # The game version between 2023-04-22 and 2023-06-06 is 1.0, \n",
    "    # However, 2023-04-22 is not included in the interval\n",
    "    # version > 2023-04-22 and version <= 2023-06-06 maps to 1.0 version\n",
    "df2[\"game_version\"] = pd.cut(\n",
    "  df2[\"new_date\"],\n",
    "    bins=date_bins,\n",
    "    labels=version_labels\n",
    ")"
   ]
  },
  {
   "cell_type": "code",
   "execution_count": 94,
   "id": "f21b576f-6ebe-4ced-b42c-39aa6e479be0",
   "metadata": {},
   "outputs": [
    {
     "data": {
      "text/html": [
       "<div>\n",
       "<style scoped>\n",
       "    .dataframe tbody tr th:only-of-type {\n",
       "        vertical-align: middle;\n",
       "    }\n",
       "\n",
       "    .dataframe tbody tr th {\n",
       "        vertical-align: top;\n",
       "    }\n",
       "\n",
       "    .dataframe thead th {\n",
       "        text-align: right;\n",
       "    }\n",
       "</style>\n",
       "<table border=\"1\" class=\"dataframe\">\n",
       "  <thead>\n",
       "    <tr style=\"text-align: right;\">\n",
       "      <th></th>\n",
       "      <th>rating</th>\n",
       "      <th>snippet</th>\n",
       "      <th>likes</th>\n",
       "      <th>date</th>\n",
       "      <th>response</th>\n",
       "      <th>new_date</th>\n",
       "      <th>new_rating</th>\n",
       "      <th>game_version</th>\n",
       "    </tr>\n",
       "  </thead>\n",
       "  <tbody>\n",
       "    <tr>\n",
       "      <th>0</th>\n",
       "      <td>4</td>\n",
       "      <td>The combat is turn-based which is not my favor...</td>\n",
       "      <td>448</td>\n",
       "      <td>June 19, 2024</td>\n",
       "      <td>NaN</td>\n",
       "      <td>2024-06-19</td>\n",
       "      <td>Positive</td>\n",
       "      <td>2.3</td>\n",
       "    </tr>\n",
       "    <tr>\n",
       "      <th>1</th>\n",
       "      <td>3</td>\n",
       "      <td>The constant grind for materials to activate c...</td>\n",
       "      <td>49</td>\n",
       "      <td>July 05, 2024</td>\n",
       "      <td>NaN</td>\n",
       "      <td>2024-07-05</td>\n",
       "      <td>Negative</td>\n",
       "      <td>2.3</td>\n",
       "    </tr>\n",
       "    <tr>\n",
       "      <th>2</th>\n",
       "      <td>5</td>\n",
       "      <td>I love this game so much. The only mobile game...</td>\n",
       "      <td>144</td>\n",
       "      <td>July 12, 2024</td>\n",
       "      <td>NaN</td>\n",
       "      <td>2024-07-12</td>\n",
       "      <td>Positive</td>\n",
       "      <td>2.3</td>\n",
       "    </tr>\n",
       "    <tr>\n",
       "      <th>3</th>\n",
       "      <td>4</td>\n",
       "      <td>I love this game. It has amazing story and cha...</td>\n",
       "      <td>64</td>\n",
       "      <td>June 30, 2024</td>\n",
       "      <td>NaN</td>\n",
       "      <td>2024-06-30</td>\n",
       "      <td>Positive</td>\n",
       "      <td>2.3</td>\n",
       "    </tr>\n",
       "    <tr>\n",
       "      <th>4</th>\n",
       "      <td>5</td>\n",
       "      <td>Decent game overall. Beautiful character and m...</td>\n",
       "      <td>427</td>\n",
       "      <td>June 18, 2024</td>\n",
       "      <td>NaN</td>\n",
       "      <td>2024-06-18</td>\n",
       "      <td>Positive</td>\n",
       "      <td>2.2</td>\n",
       "    </tr>\n",
       "  </tbody>\n",
       "</table>\n",
       "</div>"
      ],
      "text/plain": [
       "   rating                                            snippet  likes  \\\n",
       "0       4  The combat is turn-based which is not my favor...    448   \n",
       "1       3  The constant grind for materials to activate c...     49   \n",
       "2       5  I love this game so much. The only mobile game...    144   \n",
       "3       4  I love this game. It has amazing story and cha...     64   \n",
       "4       5  Decent game overall. Beautiful character and m...    427   \n",
       "\n",
       "            date response   new_date new_rating game_version  \n",
       "0  June 19, 2024      NaN 2024-06-19   Positive          2.3  \n",
       "1  July 05, 2024      NaN 2024-07-05   Negative          2.3  \n",
       "2  July 12, 2024      NaN 2024-07-12   Positive          2.3  \n",
       "3  June 30, 2024      NaN 2024-06-30   Positive          2.3  \n",
       "4  June 18, 2024      NaN 2024-06-18   Positive          2.2  "
      ]
     },
     "execution_count": 94,
     "metadata": {},
     "output_type": "execute_result"
    }
   ],
   "source": [
    "df2.head()"
   ]
  },
  {
   "cell_type": "code",
   "execution_count": 102,
   "id": "a6efdba2-6114-4755-8d25-67e488f4ed53",
   "metadata": {},
   "outputs": [
    {
     "data": {
      "text/html": [
       "<div>\n",
       "<style scoped>\n",
       "    .dataframe tbody tr th:only-of-type {\n",
       "        vertical-align: middle;\n",
       "    }\n",
       "\n",
       "    .dataframe tbody tr th {\n",
       "        vertical-align: top;\n",
       "    }\n",
       "\n",
       "    .dataframe thead th {\n",
       "        text-align: right;\n",
       "    }\n",
       "</style>\n",
       "<table border=\"1\" class=\"dataframe\">\n",
       "  <thead>\n",
       "    <tr style=\"text-align: right;\">\n",
       "      <th></th>\n",
       "      <th>rating</th>\n",
       "      <th>snippet</th>\n",
       "      <th>likes</th>\n",
       "      <th>date</th>\n",
       "      <th>response</th>\n",
       "      <th>new_date</th>\n",
       "      <th>new_rating</th>\n",
       "      <th>game_version</th>\n",
       "    </tr>\n",
       "  </thead>\n",
       "  <tbody>\n",
       "    <tr>\n",
       "      <th>0</th>\n",
       "      <td>4</td>\n",
       "      <td>The combat is turn-based which is not my favor...</td>\n",
       "      <td>448</td>\n",
       "      <td>June 19, 2024</td>\n",
       "      <td>NaN</td>\n",
       "      <td>2024-06-19</td>\n",
       "      <td>Positive</td>\n",
       "      <td>2.3</td>\n",
       "    </tr>\n",
       "    <tr>\n",
       "      <th>1</th>\n",
       "      <td>3</td>\n",
       "      <td>The constant grind for materials to activate c...</td>\n",
       "      <td>49</td>\n",
       "      <td>July 05, 2024</td>\n",
       "      <td>NaN</td>\n",
       "      <td>2024-07-05</td>\n",
       "      <td>Negative</td>\n",
       "      <td>2.3</td>\n",
       "    </tr>\n",
       "    <tr>\n",
       "      <th>2</th>\n",
       "      <td>5</td>\n",
       "      <td>I love this game so much. The only mobile game...</td>\n",
       "      <td>144</td>\n",
       "      <td>July 12, 2024</td>\n",
       "      <td>NaN</td>\n",
       "      <td>2024-07-12</td>\n",
       "      <td>Positive</td>\n",
       "      <td>2.3</td>\n",
       "    </tr>\n",
       "    <tr>\n",
       "      <th>3</th>\n",
       "      <td>4</td>\n",
       "      <td>I love this game. It has amazing story and cha...</td>\n",
       "      <td>64</td>\n",
       "      <td>June 30, 2024</td>\n",
       "      <td>NaN</td>\n",
       "      <td>2024-06-30</td>\n",
       "      <td>Positive</td>\n",
       "      <td>2.3</td>\n",
       "    </tr>\n",
       "    <tr>\n",
       "      <th>5</th>\n",
       "      <td>4</td>\n",
       "      <td>Fantastic game! The story is immaculate and I ...</td>\n",
       "      <td>65</td>\n",
       "      <td>June 30, 2024</td>\n",
       "      <td>NaN</td>\n",
       "      <td>2024-06-30</td>\n",
       "      <td>Positive</td>\n",
       "      <td>2.3</td>\n",
       "    </tr>\n",
       "  </tbody>\n",
       "</table>\n",
       "</div>"
      ],
      "text/plain": [
       "   rating                                            snippet  likes  \\\n",
       "0       4  The combat is turn-based which is not my favor...    448   \n",
       "1       3  The constant grind for materials to activate c...     49   \n",
       "2       5  I love this game so much. The only mobile game...    144   \n",
       "3       4  I love this game. It has amazing story and cha...     64   \n",
       "5       4  Fantastic game! The story is immaculate and I ...     65   \n",
       "\n",
       "            date response   new_date new_rating game_version  \n",
       "0  June 19, 2024      NaN 2024-06-19   Positive          2.3  \n",
       "1  July 05, 2024      NaN 2024-07-05   Negative          2.3  \n",
       "2  July 12, 2024      NaN 2024-07-12   Positive          2.3  \n",
       "3  June 30, 2024      NaN 2024-06-30   Positive          2.3  \n",
       "5  June 30, 2024      NaN 2024-06-30   Positive          2.3  "
      ]
     },
     "execution_count": 102,
     "metadata": {},
     "output_type": "execute_result"
    }
   ],
   "source": [
    "# chekcing if this is a correct result\n",
    "df2[(df2[\"new_date\"] < \"2024-07-31\") & (df2[\"new_date\"] >= \"2024-06-19\")].head()"
   ]
  },
  {
   "cell_type": "markdown",
   "id": "801a0128-cc87-44f2-8f21-5c10e09cdac6",
   "metadata": {},
   "source": [
    "## EDA on Rating "
   ]
  },
  {
   "cell_type": "code",
   "execution_count": 150,
   "id": "3ff97f80-5577-4b40-874b-d0924d827a2e",
   "metadata": {},
   "outputs": [],
   "source": [
    "# use groupby() to obtain the number of ratings, average rating, median, and standard deviation from each version, \n",
    "rating_stats = df2.groupby(\"game_version\", observed=True)[\"rating\"].agg([\"count\", \"mean\", \"median\", \"std\"])"
   ]
  },
  {
   "cell_type": "code",
   "execution_count": 161,
   "id": "4ab4cfe7-7479-4eb2-871c-6400a5c927eb",
   "metadata": {},
   "outputs": [
    {
     "name": "stdout",
     "output_type": "stream",
     "text": [
      "              count      mean  median       std\n",
      "game_version                                   \n",
      "1.0            5989  3.704291     5.0  1.594041\n",
      "1.1            1727  3.674001     4.0  1.559827\n",
      "1.2            1437  3.659708     4.0  1.588301\n",
      "1.3            1024  3.692383     5.0  1.591799\n",
      "1.4             692  3.817919     5.0  1.568069\n",
      "1.5            1080  4.180556     5.0  1.395010\n",
      "1.6            1150  4.172174     5.0  1.402444\n",
      "2.0            2157  3.781641     5.0  1.604746\n",
      "2.1            1765  3.878754     5.0  1.547079\n",
      "2.2            1639  3.899939     5.0  1.565343\n",
      "2.3            1238  3.386107     4.0  1.739140\n",
      "2.4               2  1.000000     1.0  0.000000\n"
     ]
    }
   ],
   "source": [
    "print(rating_stats)"
   ]
  },
  {
   "cell_type": "markdown",
   "id": "a20e9f08-1e27-49c0-a3cd-513871598fdb",
   "metadata": {},
   "source": [
    "#### The 2.4 version just released few days ago, so there are not many reviews have made on this version. \n",
    "\n",
    "#### Decide to remove the 2.4 version reviews from the dataset"
   ]
  },
  {
   "cell_type": "code",
   "execution_count": 162,
   "id": "c918e2e8-96ac-49c3-825c-179f16efa708",
   "metadata": {},
   "outputs": [
    {
     "data": {
      "text/html": [
       "<div>\n",
       "<style scoped>\n",
       "    .dataframe tbody tr th:only-of-type {\n",
       "        vertical-align: middle;\n",
       "    }\n",
       "\n",
       "    .dataframe tbody tr th {\n",
       "        vertical-align: top;\n",
       "    }\n",
       "\n",
       "    .dataframe thead th {\n",
       "        text-align: right;\n",
       "    }\n",
       "</style>\n",
       "<table border=\"1\" class=\"dataframe\">\n",
       "  <thead>\n",
       "    <tr style=\"text-align: right;\">\n",
       "      <th></th>\n",
       "      <th>count</th>\n",
       "      <th>mean</th>\n",
       "      <th>median</th>\n",
       "      <th>std</th>\n",
       "    </tr>\n",
       "    <tr>\n",
       "      <th>game_version</th>\n",
       "      <th></th>\n",
       "      <th></th>\n",
       "      <th></th>\n",
       "      <th></th>\n",
       "    </tr>\n",
       "  </thead>\n",
       "  <tbody>\n",
       "    <tr>\n",
       "      <th>1.0</th>\n",
       "      <td>5989</td>\n",
       "      <td>3.704291</td>\n",
       "      <td>5.0</td>\n",
       "      <td>1.594041</td>\n",
       "    </tr>\n",
       "    <tr>\n",
       "      <th>1.1</th>\n",
       "      <td>1727</td>\n",
       "      <td>3.674001</td>\n",
       "      <td>4.0</td>\n",
       "      <td>1.559827</td>\n",
       "    </tr>\n",
       "    <tr>\n",
       "      <th>1.2</th>\n",
       "      <td>1437</td>\n",
       "      <td>3.659708</td>\n",
       "      <td>4.0</td>\n",
       "      <td>1.588301</td>\n",
       "    </tr>\n",
       "    <tr>\n",
       "      <th>1.3</th>\n",
       "      <td>1024</td>\n",
       "      <td>3.692383</td>\n",
       "      <td>5.0</td>\n",
       "      <td>1.591799</td>\n",
       "    </tr>\n",
       "    <tr>\n",
       "      <th>1.4</th>\n",
       "      <td>692</td>\n",
       "      <td>3.817919</td>\n",
       "      <td>5.0</td>\n",
       "      <td>1.568069</td>\n",
       "    </tr>\n",
       "    <tr>\n",
       "      <th>1.5</th>\n",
       "      <td>1080</td>\n",
       "      <td>4.180556</td>\n",
       "      <td>5.0</td>\n",
       "      <td>1.395010</td>\n",
       "    </tr>\n",
       "    <tr>\n",
       "      <th>1.6</th>\n",
       "      <td>1150</td>\n",
       "      <td>4.172174</td>\n",
       "      <td>5.0</td>\n",
       "      <td>1.402444</td>\n",
       "    </tr>\n",
       "    <tr>\n",
       "      <th>2.0</th>\n",
       "      <td>2157</td>\n",
       "      <td>3.781641</td>\n",
       "      <td>5.0</td>\n",
       "      <td>1.604746</td>\n",
       "    </tr>\n",
       "    <tr>\n",
       "      <th>2.1</th>\n",
       "      <td>1765</td>\n",
       "      <td>3.878754</td>\n",
       "      <td>5.0</td>\n",
       "      <td>1.547079</td>\n",
       "    </tr>\n",
       "    <tr>\n",
       "      <th>2.2</th>\n",
       "      <td>1639</td>\n",
       "      <td>3.899939</td>\n",
       "      <td>5.0</td>\n",
       "      <td>1.565343</td>\n",
       "    </tr>\n",
       "    <tr>\n",
       "      <th>2.3</th>\n",
       "      <td>1238</td>\n",
       "      <td>3.386107</td>\n",
       "      <td>4.0</td>\n",
       "      <td>1.739140</td>\n",
       "    </tr>\n",
       "  </tbody>\n",
       "</table>\n",
       "</div>"
      ],
      "text/plain": [
       "              count      mean  median       std\n",
       "game_version                                   \n",
       "1.0            5989  3.704291     5.0  1.594041\n",
       "1.1            1727  3.674001     4.0  1.559827\n",
       "1.2            1437  3.659708     4.0  1.588301\n",
       "1.3            1024  3.692383     5.0  1.591799\n",
       "1.4             692  3.817919     5.0  1.568069\n",
       "1.5            1080  4.180556     5.0  1.395010\n",
       "1.6            1150  4.172174     5.0  1.402444\n",
       "2.0            2157  3.781641     5.0  1.604746\n",
       "2.1            1765  3.878754     5.0  1.547079\n",
       "2.2            1639  3.899939     5.0  1.565343\n",
       "2.3            1238  3.386107     4.0  1.739140"
      ]
     },
     "execution_count": 162,
     "metadata": {},
     "output_type": "execute_result"
    }
   ],
   "source": [
    "rating_stats = rating_stats.iloc[:-1, :]\n",
    "rating_stats"
   ]
  },
  {
   "cell_type": "markdown",
   "id": "48930666-b25b-4aca-a51a-0bf62634c613",
   "metadata": {},
   "source": [
    "#### The line plot shows that the first version (1.0) hit the max number of reviews. Then, the number of reviews of the game kept decreasing until 1.4 version. Finally, it started decreasing again."
   ]
  },
  {
   "cell_type": "code",
   "execution_count": 167,
   "id": "6798da8a-d9f8-4b22-a762-e99106339b17",
   "metadata": {},
   "outputs": [
    {
     "data": {
      "image/png": "[encoded data removed]",
      "text/plain": [
       "<Figure size 640x480 with 1 Axes>"
      ]
     },
     "metadata": {},
     "output_type": "display_data"
    }
   ],
   "source": [
    "sns.lineplot(x=list(rating_stats.index), \n",
    "             y=rating_stats[\"count\"])\n",
    "plt.xlabel(\"Game Version\")\n",
    "plt.ylabel(\"Counts\")\n",
    "plt.title(\"Counts vs Game Version\")\n",
    "plt.show()"
   ]
  },
  {
   "cell_type": "markdown",
   "id": "aa125356-6135-49eb-a028-e62af209892b",
   "metadata": {},
   "source": [
    "#### The line plot shows that average and median rating score over each version. We can see that the median rating score have not been lower than 4 across all the version.\n",
    "\n",
    "#### However, the mean rating score is always below the median rating score. This indicates that the rating score distribution of each version skews to left\n",
    "\n",
    "#### Many players would rate Honkai: Star Rail 3 stars, 2 stars, or 1 star even though majority palyers think Honkai: Star Rail deserve 5 stars\n",
    "\n",
    "#### One more interesting thing is that the average rating score line is opposite to the number of reviews line above. \n",
    "\n",
    "#### As the the number of reviews decreases, the average rating score increases. As the number of reviews increases, the average rating score decreases. This scenario have started at 1.2 version.\n",
    "\n",
    "#### When a Honkai: Star Rail's new version released, more reviews makes a lower rating score because the players start to complaint about the game"
   ]
  },
  {
   "cell_type": "code",
   "execution_count": 175,
   "id": "8bf992fa-79fe-4f7f-965f-231062a5b436",
   "metadata": {},
   "outputs": [
    {
     "data": {
      "image/png": "[encoded data removed]",
      "text/plain": [
       "<Figure size 640x480 with 1 Axes>"
      ]
     },
     "metadata": {},
     "output_type": "display_data"
    }
   ],
   "source": [
    "sns.lineplot(x=list(rating_stats.index), \n",
    "             y=rating_stats[\"mean\"], label=\"Mean\")\n",
    "\n",
    "sns.lineplot(x=list(rating_stats.index), \n",
    "             y=rating_stats[\"median\"], label=\"Median\")\n",
    "\n",
    "plt.xlabel(\"Game Version\")\n",
    "plt.ylabel(\"Average / Median Rating\")\n",
    "plt.title(\"Average / Median Rating vs Game Version\")\n",
    "plt.show()"
   ]
  },
  {
   "cell_type": "markdown",
   "id": "f26fc192-6975-4e30-bd7e-23a8c788b4b2",
   "metadata": {},
   "source": [
    "#### The histogram plot shows the rating score distribution from game verson 1.0 to 2.3. The median rating score is above the average rating score."
   ]
  },
  {
   "cell_type": "code",
   "execution_count": 185,
   "id": "d982c073-b756-4630-a47d-9489f63352a1",
   "metadata": {},
   "outputs": [],
   "source": [
    "average_rating = np.mean(df2[\"rating\"])\n",
    "median_rating = np.median(df2[\"rating\"])"
   ]
  },
  {
   "cell_type": "code",
   "execution_count": 197,
   "id": "283d58b7-8272-44a5-bdd0-c9daf683ef92",
   "metadata": {},
   "outputs": [
    {
     "data": {
      "image/png": "[encoded data removed]",
      "text/plain": [
       "<Figure size 640x480 with 1 Axes>"
      ]
     },
     "metadata": {},
     "output_type": "display_data"
    }
   ],
   "source": [
    "sns.histplot(df2[\"rating\"], bins=5, kde=True)\n",
    "plt.axvline(average_rating, color=\"blue\", label=\"mean\")\n",
    "plt.axvline(median_rating, color=\"red\", label=\"median\")\n",
    "plt.legend()\n",
    "plt.title(\"Rating Score Distribution\")\n",
    "plt.xlabel(\"Rating Score\")\n",
    "plt.show()"
   ]
  },
  {
   "cell_type": "markdown",
   "id": "f9dd6469-c834-4a65-8dd6-84e558b7bfd1",
   "metadata": {},
   "source": [
    "#### The bar plot below demonstrate my opinion above because the positive rating is always higher than the negative review over each version"
   ]
  },
  {
   "cell_type": "code",
   "execution_count": 173,
   "id": "45802f0a-80b7-46ba-880c-4fcc37f4d4cd",
   "metadata": {},
   "outputs": [],
   "source": [
    "rating_counts = df2.groupby(\"game_version\", observed=True)[\"new_rating\"].value_counts().unstack()\n",
    "rating_counts = rating_counts.iloc[:-1, :]"
   ]
  },
  {
   "cell_type": "code",
   "execution_count": 176,
   "id": "5d2626de-0a3e-44d1-9902-0ff9694329fd",
   "metadata": {},
   "outputs": [
    {
     "data": {
      "text/html": [
       "<div>\n",
       "<style scoped>\n",
       "    .dataframe tbody tr th:only-of-type {\n",
       "        vertical-align: middle;\n",
       "    }\n",
       "\n",
       "    .dataframe tbody tr th {\n",
       "        vertical-align: top;\n",
       "    }\n",
       "\n",
       "    .dataframe thead th {\n",
       "        text-align: right;\n",
       "    }\n",
       "</style>\n",
       "<table border=\"1\" class=\"dataframe\">\n",
       "  <thead>\n",
       "    <tr style=\"text-align: right;\">\n",
       "      <th>new_rating</th>\n",
       "      <th>Negative</th>\n",
       "      <th>Positive</th>\n",
       "    </tr>\n",
       "    <tr>\n",
       "      <th>game_version</th>\n",
       "      <th></th>\n",
       "      <th></th>\n",
       "    </tr>\n",
       "  </thead>\n",
       "  <tbody>\n",
       "    <tr>\n",
       "      <th>1.0</th>\n",
       "      <td>2151.0</td>\n",
       "      <td>3838.0</td>\n",
       "    </tr>\n",
       "    <tr>\n",
       "      <th>1.1</th>\n",
       "      <td>655.0</td>\n",
       "      <td>1072.0</td>\n",
       "    </tr>\n",
       "    <tr>\n",
       "      <th>1.2</th>\n",
       "      <td>537.0</td>\n",
       "      <td>900.0</td>\n",
       "    </tr>\n",
       "    <tr>\n",
       "      <th>1.3</th>\n",
       "      <td>370.0</td>\n",
       "      <td>654.0</td>\n",
       "    </tr>\n",
       "    <tr>\n",
       "      <th>1.4</th>\n",
       "      <td>219.0</td>\n",
       "      <td>473.0</td>\n",
       "    </tr>\n",
       "    <tr>\n",
       "      <th>1.5</th>\n",
       "      <td>238.0</td>\n",
       "      <td>842.0</td>\n",
       "    </tr>\n",
       "    <tr>\n",
       "      <th>1.6</th>\n",
       "      <td>258.0</td>\n",
       "      <td>892.0</td>\n",
       "    </tr>\n",
       "    <tr>\n",
       "      <th>2.0</th>\n",
       "      <td>720.0</td>\n",
       "      <td>1437.0</td>\n",
       "    </tr>\n",
       "    <tr>\n",
       "      <th>2.1</th>\n",
       "      <td>528.0</td>\n",
       "      <td>1237.0</td>\n",
       "    </tr>\n",
       "    <tr>\n",
       "      <th>2.2</th>\n",
       "      <td>481.0</td>\n",
       "      <td>1158.0</td>\n",
       "    </tr>\n",
       "    <tr>\n",
       "      <th>2.3</th>\n",
       "      <td>537.0</td>\n",
       "      <td>701.0</td>\n",
       "    </tr>\n",
       "  </tbody>\n",
       "</table>\n",
       "</div>"
      ],
      "text/plain": [
       "new_rating    Negative  Positive\n",
       "game_version                    \n",
       "1.0             2151.0    3838.0\n",
       "1.1              655.0    1072.0\n",
       "1.2              537.0     900.0\n",
       "1.3              370.0     654.0\n",
       "1.4              219.0     473.0\n",
       "1.5              238.0     842.0\n",
       "1.6              258.0     892.0\n",
       "2.0              720.0    1437.0\n",
       "2.1              528.0    1237.0\n",
       "2.2              481.0    1158.0\n",
       "2.3              537.0     701.0"
      ]
     },
     "execution_count": 176,
     "metadata": {},
     "output_type": "execute_result"
    }
   ],
   "source": [
    "rating_counts"
   ]
  },
  {
   "cell_type": "code",
   "execution_count": 174,
   "id": "2e5f251c-e53d-4ca8-9429-ea4427cd3f7d",
   "metadata": {},
   "outputs": [
    {
     "data": {
      "image/png": "[encoded data removed]",
      "text/plain": [
       "<Figure size 640x480 with 1 Axes>"
      ]
     },
     "metadata": {},
     "output_type": "display_data"
    }
   ],
   "source": [
    "rating_counts.plot.bar()\n",
    "plt.xticks(rotation=0)\n",
    "plt.xlabel(\"Game Version\")\n",
    "plt.ylabel(\"Counts\")\n",
    "plt.title(\"Counts vs Game Version\")\n",
    "plt.show()"
   ]
  },
  {
   "cell_type": "markdown",
   "id": "41c70bb8-cf70-4442-a596-ad4b78e2e926",
   "metadata": {},
   "source": [
    "## Save the data frame to a csv file"
   ]
  },
  {
   "cell_type": "code",
   "execution_count": 200,
   "id": "ff916ece-6979-4ea1-b448-a8e868201d09",
   "metadata": {},
   "outputs": [
    {
     "data": {
      "text/html": [
       "<div>\n",
       "<style scoped>\n",
       "    .dataframe tbody tr th:only-of-type {\n",
       "        vertical-align: middle;\n",
       "    }\n",
       "\n",
       "    .dataframe tbody tr th {\n",
       "        vertical-align: top;\n",
       "    }\n",
       "\n",
       "    .dataframe thead th {\n",
       "        text-align: right;\n",
       "    }\n",
       "</style>\n",
       "<table border=\"1\" class=\"dataframe\">\n",
       "  <thead>\n",
       "    <tr style=\"text-align: right;\">\n",
       "      <th></th>\n",
       "      <th>rating</th>\n",
       "      <th>snippet</th>\n",
       "      <th>likes</th>\n",
       "      <th>date</th>\n",
       "      <th>response</th>\n",
       "      <th>new_date</th>\n",
       "      <th>new_rating</th>\n",
       "      <th>game_version</th>\n",
       "    </tr>\n",
       "  </thead>\n",
       "  <tbody>\n",
       "    <tr>\n",
       "      <th>0</th>\n",
       "      <td>4</td>\n",
       "      <td>The combat is turn-based which is not my favor...</td>\n",
       "      <td>448</td>\n",
       "      <td>June 19, 2024</td>\n",
       "      <td>NaN</td>\n",
       "      <td>2024-06-19</td>\n",
       "      <td>Positive</td>\n",
       "      <td>2.3</td>\n",
       "    </tr>\n",
       "    <tr>\n",
       "      <th>1</th>\n",
       "      <td>3</td>\n",
       "      <td>The constant grind for materials to activate c...</td>\n",
       "      <td>49</td>\n",
       "      <td>July 05, 2024</td>\n",
       "      <td>NaN</td>\n",
       "      <td>2024-07-05</td>\n",
       "      <td>Negative</td>\n",
       "      <td>2.3</td>\n",
       "    </tr>\n",
       "    <tr>\n",
       "      <th>2</th>\n",
       "      <td>5</td>\n",
       "      <td>I love this game so much. The only mobile game...</td>\n",
       "      <td>144</td>\n",
       "      <td>July 12, 2024</td>\n",
       "      <td>NaN</td>\n",
       "      <td>2024-07-12</td>\n",
       "      <td>Positive</td>\n",
       "      <td>2.3</td>\n",
       "    </tr>\n",
       "    <tr>\n",
       "      <th>3</th>\n",
       "      <td>4</td>\n",
       "      <td>I love this game. It has amazing story and cha...</td>\n",
       "      <td>64</td>\n",
       "      <td>June 30, 2024</td>\n",
       "      <td>NaN</td>\n",
       "      <td>2024-06-30</td>\n",
       "      <td>Positive</td>\n",
       "      <td>2.3</td>\n",
       "    </tr>\n",
       "    <tr>\n",
       "      <th>4</th>\n",
       "      <td>5</td>\n",
       "      <td>Decent game overall. Beautiful character and m...</td>\n",
       "      <td>427</td>\n",
       "      <td>June 18, 2024</td>\n",
       "      <td>NaN</td>\n",
       "      <td>2024-06-18</td>\n",
       "      <td>Positive</td>\n",
       "      <td>2.2</td>\n",
       "    </tr>\n",
       "  </tbody>\n",
       "</table>\n",
       "</div>"
      ],
      "text/plain": [
       "   rating                                            snippet  likes  \\\n",
       "0       4  The combat is turn-based which is not my favor...    448   \n",
       "1       3  The constant grind for materials to activate c...     49   \n",
       "2       5  I love this game so much. The only mobile game...    144   \n",
       "3       4  I love this game. It has amazing story and cha...     64   \n",
       "4       5  Decent game overall. Beautiful character and m...    427   \n",
       "\n",
       "            date response   new_date new_rating game_version  \n",
       "0  June 19, 2024      NaN 2024-06-19   Positive          2.3  \n",
       "1  July 05, 2024      NaN 2024-07-05   Negative          2.3  \n",
       "2  July 12, 2024      NaN 2024-07-12   Positive          2.3  \n",
       "3  June 30, 2024      NaN 2024-06-30   Positive          2.3  \n",
       "4  June 18, 2024      NaN 2024-06-18   Positive          2.2  "
      ]
     },
     "execution_count": 200,
     "metadata": {},
     "output_type": "execute_result"
    }
   ],
   "source": [
    "df2.head()"
   ]
  },
  {
   "cell_type": "code",
   "execution_count": 203,
   "id": "bd19f80a-b382-465d-868c-004f73282554",
   "metadata": {},
   "outputs": [],
   "source": [
    "df2 = df2.loc[:, [\"date\", \"new_date\", \"game_version\", \"snippet\", \"likes\", \"response\", \"rating\", \"new_rating\"]]"
   ]
  },
  {
   "cell_type": "code",
   "execution_count": 204,
   "id": "756eaaeb-3a9a-4848-80b5-0486ee75f057",
   "metadata": {},
   "outputs": [
    {
     "data": {
      "text/html": [
       "<div>\n",
       "<style scoped>\n",
       "    .dataframe tbody tr th:only-of-type {\n",
       "        vertical-align: middle;\n",
       "    }\n",
       "\n",
       "    .dataframe tbody tr th {\n",
       "        vertical-align: top;\n",
       "    }\n",
       "\n",
       "    .dataframe thead th {\n",
       "        text-align: right;\n",
       "    }\n",
       "</style>\n",
       "<table border=\"1\" class=\"dataframe\">\n",
       "  <thead>\n",
       "    <tr style=\"text-align: right;\">\n",
       "      <th></th>\n",
       "      <th>date</th>\n",
       "      <th>new_date</th>\n",
       "      <th>game_version</th>\n",
       "      <th>snippet</th>\n",
       "      <th>likes</th>\n",
       "      <th>response</th>\n",
       "      <th>rating</th>\n",
       "      <th>new_rating</th>\n",
       "    </tr>\n",
       "  </thead>\n",
       "  <tbody>\n",
       "    <tr>\n",
       "      <th>0</th>\n",
       "      <td>June 19, 2024</td>\n",
       "      <td>2024-06-19</td>\n",
       "      <td>2.3</td>\n",
       "      <td>The combat is turn-based which is not my favor...</td>\n",
       "      <td>448</td>\n",
       "      <td>NaN</td>\n",
       "      <td>4</td>\n",
       "      <td>Positive</td>\n",
       "    </tr>\n",
       "    <tr>\n",
       "      <th>1</th>\n",
       "      <td>July 05, 2024</td>\n",
       "      <td>2024-07-05</td>\n",
       "      <td>2.3</td>\n",
       "      <td>The constant grind for materials to activate c...</td>\n",
       "      <td>49</td>\n",
       "      <td>NaN</td>\n",
       "      <td>3</td>\n",
       "      <td>Negative</td>\n",
       "    </tr>\n",
       "    <tr>\n",
       "      <th>2</th>\n",
       "      <td>July 12, 2024</td>\n",
       "      <td>2024-07-12</td>\n",
       "      <td>2.3</td>\n",
       "      <td>I love this game so much. The only mobile game...</td>\n",
       "      <td>144</td>\n",
       "      <td>NaN</td>\n",
       "      <td>5</td>\n",
       "      <td>Positive</td>\n",
       "    </tr>\n",
       "    <tr>\n",
       "      <th>3</th>\n",
       "      <td>June 30, 2024</td>\n",
       "      <td>2024-06-30</td>\n",
       "      <td>2.3</td>\n",
       "      <td>I love this game. It has amazing story and cha...</td>\n",
       "      <td>64</td>\n",
       "      <td>NaN</td>\n",
       "      <td>4</td>\n",
       "      <td>Positive</td>\n",
       "    </tr>\n",
       "    <tr>\n",
       "      <th>4</th>\n",
       "      <td>June 18, 2024</td>\n",
       "      <td>2024-06-18</td>\n",
       "      <td>2.2</td>\n",
       "      <td>Decent game overall. Beautiful character and m...</td>\n",
       "      <td>427</td>\n",
       "      <td>NaN</td>\n",
       "      <td>5</td>\n",
       "      <td>Positive</td>\n",
       "    </tr>\n",
       "  </tbody>\n",
       "</table>\n",
       "</div>"
      ],
      "text/plain": [
       "            date   new_date game_version  \\\n",
       "0  June 19, 2024 2024-06-19          2.3   \n",
       "1  July 05, 2024 2024-07-05          2.3   \n",
       "2  July 12, 2024 2024-07-12          2.3   \n",
       "3  June 30, 2024 2024-06-30          2.3   \n",
       "4  June 18, 2024 2024-06-18          2.2   \n",
       "\n",
       "                                             snippet  likes response  rating  \\\n",
       "0  The combat is turn-based which is not my favor...    448      NaN       4   \n",
       "1  The constant grind for materials to activate c...     49      NaN       3   \n",
       "2  I love this game so much. The only mobile game...    144      NaN       5   \n",
       "3  I love this game. It has amazing story and cha...     64      NaN       4   \n",
       "4  Decent game overall. Beautiful character and m...    427      NaN       5   \n",
       "\n",
       "  new_rating  \n",
       "0   Positive  \n",
       "1   Negative  \n",
       "2   Positive  \n",
       "3   Positive  \n",
       "4   Positive  "
      ]
     },
     "execution_count": 204,
     "metadata": {},
     "output_type": "execute_result"
    }
   ],
   "source": [
    "df2.head()"
   ]
  },
  {
   "cell_type": "markdown",
   "id": "5368696f-f782-4fb5-b069-dbae1f939661",
   "metadata": {},
   "source": [
    "#### df3 is a modified dataset which is good for EDA or other tasks "
   ]
  },
  {
   "cell_type": "code",
   "execution_count": 205,
   "id": "77f785e2-2a14-48c7-a55f-3cd17ee470be",
   "metadata": {},
   "outputs": [],
   "source": [
    "df3 = df2.drop(\"date\", axis=1)"
   ]
  },
  {
   "cell_type": "code",
   "execution_count": 209,
   "id": "fa8a44e1-d677-4777-b61f-ce1efcb8ed79",
   "metadata": {},
   "outputs": [
    {
     "data": {
      "text/html": [
       "<div>\n",
       "<style scoped>\n",
       "    .dataframe tbody tr th:only-of-type {\n",
       "        vertical-align: middle;\n",
       "    }\n",
       "\n",
       "    .dataframe tbody tr th {\n",
       "        vertical-align: top;\n",
       "    }\n",
       "\n",
       "    .dataframe thead th {\n",
       "        text-align: right;\n",
       "    }\n",
       "</style>\n",
       "<table border=\"1\" class=\"dataframe\">\n",
       "  <thead>\n",
       "    <tr style=\"text-align: right;\">\n",
       "      <th></th>\n",
       "      <th>new_date</th>\n",
       "      <th>game_version</th>\n",
       "      <th>snippet</th>\n",
       "      <th>likes</th>\n",
       "      <th>response</th>\n",
       "      <th>rating</th>\n",
       "      <th>new_rating</th>\n",
       "    </tr>\n",
       "  </thead>\n",
       "  <tbody>\n",
       "    <tr>\n",
       "      <th>0</th>\n",
       "      <td>2024-06-19</td>\n",
       "      <td>2.3</td>\n",
       "      <td>The combat is turn-based which is not my favor...</td>\n",
       "      <td>448</td>\n",
       "      <td>NaN</td>\n",
       "      <td>4</td>\n",
       "      <td>Positive</td>\n",
       "    </tr>\n",
       "    <tr>\n",
       "      <th>1</th>\n",
       "      <td>2024-07-05</td>\n",
       "      <td>2.3</td>\n",
       "      <td>The constant grind for materials to activate c...</td>\n",
       "      <td>49</td>\n",
       "      <td>NaN</td>\n",
       "      <td>3</td>\n",
       "      <td>Negative</td>\n",
       "    </tr>\n",
       "    <tr>\n",
       "      <th>2</th>\n",
       "      <td>2024-07-12</td>\n",
       "      <td>2.3</td>\n",
       "      <td>I love this game so much. The only mobile game...</td>\n",
       "      <td>144</td>\n",
       "      <td>NaN</td>\n",
       "      <td>5</td>\n",
       "      <td>Positive</td>\n",
       "    </tr>\n",
       "    <tr>\n",
       "      <th>3</th>\n",
       "      <td>2024-06-30</td>\n",
       "      <td>2.3</td>\n",
       "      <td>I love this game. It has amazing story and cha...</td>\n",
       "      <td>64</td>\n",
       "      <td>NaN</td>\n",
       "      <td>4</td>\n",
       "      <td>Positive</td>\n",
       "    </tr>\n",
       "    <tr>\n",
       "      <th>4</th>\n",
       "      <td>2024-06-18</td>\n",
       "      <td>2.2</td>\n",
       "      <td>Decent game overall. Beautiful character and m...</td>\n",
       "      <td>427</td>\n",
       "      <td>NaN</td>\n",
       "      <td>5</td>\n",
       "      <td>Positive</td>\n",
       "    </tr>\n",
       "  </tbody>\n",
       "</table>\n",
       "</div>"
      ],
      "text/plain": [
       "    new_date game_version                                            snippet  \\\n",
       "0 2024-06-19          2.3  The combat is turn-based which is not my favor...   \n",
       "1 2024-07-05          2.3  The constant grind for materials to activate c...   \n",
       "2 2024-07-12          2.3  I love this game so much. The only mobile game...   \n",
       "3 2024-06-30          2.3  I love this game. It has amazing story and cha...   \n",
       "4 2024-06-18          2.2  Decent game overall. Beautiful character and m...   \n",
       "\n",
       "   likes response  rating new_rating  \n",
       "0    448      NaN       4   Positive  \n",
       "1     49      NaN       3   Negative  \n",
       "2    144      NaN       5   Positive  \n",
       "3     64      NaN       4   Positive  \n",
       "4    427      NaN       5   Positive  "
      ]
     },
     "execution_count": 209,
     "metadata": {},
     "output_type": "execute_result"
    }
   ],
   "source": [
    "df3.head()"
   ]
  },
  {
   "cell_type": "code",
   "execution_count": 214,
   "id": "447ccc60-e116-429d-afcd-08de02e63fc9",
   "metadata": {},
   "outputs": [],
   "source": [
    "df3 = df3.rename(columns={\n",
    "    \"new_date\":\"date\",\n",
    "    \"new_rating\":\"positive_rating\"})"
   ]
  },
  {
   "cell_type": "code",
   "execution_count": 215,
   "id": "77c6bcbc-9c7c-43ec-9de4-698883b85d5b",
   "metadata": {},
   "outputs": [
    {
     "data": {
      "text/html": [
       "<div>\n",
       "<style scoped>\n",
       "    .dataframe tbody tr th:only-of-type {\n",
       "        vertical-align: middle;\n",
       "    }\n",
       "\n",
       "    .dataframe tbody tr th {\n",
       "        vertical-align: top;\n",
       "    }\n",
       "\n",
       "    .dataframe thead th {\n",
       "        text-align: right;\n",
       "    }\n",
       "</style>\n",
       "<table border=\"1\" class=\"dataframe\">\n",
       "  <thead>\n",
       "    <tr style=\"text-align: right;\">\n",
       "      <th></th>\n",
       "      <th>date</th>\n",
       "      <th>game_version</th>\n",
       "      <th>snippet</th>\n",
       "      <th>likes</th>\n",
       "      <th>response</th>\n",
       "      <th>rating</th>\n",
       "      <th>positive_rating</th>\n",
       "    </tr>\n",
       "  </thead>\n",
       "  <tbody>\n",
       "    <tr>\n",
       "      <th>0</th>\n",
       "      <td>2024-06-19</td>\n",
       "      <td>2.3</td>\n",
       "      <td>The combat is turn-based which is not my favor...</td>\n",
       "      <td>448</td>\n",
       "      <td>NaN</td>\n",
       "      <td>4</td>\n",
       "      <td>Positive</td>\n",
       "    </tr>\n",
       "    <tr>\n",
       "      <th>1</th>\n",
       "      <td>2024-07-05</td>\n",
       "      <td>2.3</td>\n",
       "      <td>The constant grind for materials to activate c...</td>\n",
       "      <td>49</td>\n",
       "      <td>NaN</td>\n",
       "      <td>3</td>\n",
       "      <td>Negative</td>\n",
       "    </tr>\n",
       "    <tr>\n",
       "      <th>2</th>\n",
       "      <td>2024-07-12</td>\n",
       "      <td>2.3</td>\n",
       "      <td>I love this game so much. The only mobile game...</td>\n",
       "      <td>144</td>\n",
       "      <td>NaN</td>\n",
       "      <td>5</td>\n",
       "      <td>Positive</td>\n",
       "    </tr>\n",
       "    <tr>\n",
       "      <th>3</th>\n",
       "      <td>2024-06-30</td>\n",
       "      <td>2.3</td>\n",
       "      <td>I love this game. It has amazing story and cha...</td>\n",
       "      <td>64</td>\n",
       "      <td>NaN</td>\n",
       "      <td>4</td>\n",
       "      <td>Positive</td>\n",
       "    </tr>\n",
       "    <tr>\n",
       "      <th>4</th>\n",
       "      <td>2024-06-18</td>\n",
       "      <td>2.2</td>\n",
       "      <td>Decent game overall. Beautiful character and m...</td>\n",
       "      <td>427</td>\n",
       "      <td>NaN</td>\n",
       "      <td>5</td>\n",
       "      <td>Positive</td>\n",
       "    </tr>\n",
       "  </tbody>\n",
       "</table>\n",
       "</div>"
      ],
      "text/plain": [
       "        date game_version                                            snippet  \\\n",
       "0 2024-06-19          2.3  The combat is turn-based which is not my favor...   \n",
       "1 2024-07-05          2.3  The constant grind for materials to activate c...   \n",
       "2 2024-07-12          2.3  I love this game so much. The only mobile game...   \n",
       "3 2024-06-30          2.3  I love this game. It has amazing story and cha...   \n",
       "4 2024-06-18          2.2  Decent game overall. Beautiful character and m...   \n",
       "\n",
       "   likes response  rating positive_rating  \n",
       "0    448      NaN       4        Positive  \n",
       "1     49      NaN       3        Negative  \n",
       "2    144      NaN       5        Positive  \n",
       "3     64      NaN       4        Positive  \n",
       "4    427      NaN       5        Positive  "
      ]
     },
     "execution_count": 215,
     "metadata": {},
     "output_type": "execute_result"
    }
   ],
   "source": [
    "df3.head()"
   ]
  },
  {
   "cell_type": "markdown",
   "id": "9ebda530-e8d8-43b9-9a1f-196bba02a9e6",
   "metadata": {},
   "source": [
    "#### df4 is a modeling dataset which only keep the snippet and the positive_rating column"
   ]
  },
  {
   "cell_type": "code",
   "execution_count": 216,
   "id": "17b70eb6-d885-4c35-b1a5-4e2f4b9b7611",
   "metadata": {},
   "outputs": [],
   "source": [
    "df4 = df3[[\"snippet\", \"positive_rating\"]]"
   ]
  },
  {
   "cell_type": "code",
   "execution_count": 217,
   "id": "4ba7902f-fee9-45ac-a1a4-ea054a5f3c2f",
   "metadata": {},
   "outputs": [
    {
     "data": {
      "text/html": [
       "<div>\n",
       "<style scoped>\n",
       "    .dataframe tbody tr th:only-of-type {\n",
       "        vertical-align: middle;\n",
       "    }\n",
       "\n",
       "    .dataframe tbody tr th {\n",
       "        vertical-align: top;\n",
       "    }\n",
       "\n",
       "    .dataframe thead th {\n",
       "        text-align: right;\n",
       "    }\n",
       "</style>\n",
       "<table border=\"1\" class=\"dataframe\">\n",
       "  <thead>\n",
       "    <tr style=\"text-align: right;\">\n",
       "      <th></th>\n",
       "      <th>snippet</th>\n",
       "      <th>positive_rating</th>\n",
       "    </tr>\n",
       "  </thead>\n",
       "  <tbody>\n",
       "    <tr>\n",
       "      <th>0</th>\n",
       "      <td>The combat is turn-based which is not my favor...</td>\n",
       "      <td>Positive</td>\n",
       "    </tr>\n",
       "    <tr>\n",
       "      <th>1</th>\n",
       "      <td>The constant grind for materials to activate c...</td>\n",
       "      <td>Negative</td>\n",
       "    </tr>\n",
       "    <tr>\n",
       "      <th>2</th>\n",
       "      <td>I love this game so much. The only mobile game...</td>\n",
       "      <td>Positive</td>\n",
       "    </tr>\n",
       "    <tr>\n",
       "      <th>3</th>\n",
       "      <td>I love this game. It has amazing story and cha...</td>\n",
       "      <td>Positive</td>\n",
       "    </tr>\n",
       "    <tr>\n",
       "      <th>4</th>\n",
       "      <td>Decent game overall. Beautiful character and m...</td>\n",
       "      <td>Positive</td>\n",
       "    </tr>\n",
       "  </tbody>\n",
       "</table>\n",
       "</div>"
      ],
      "text/plain": [
       "                                             snippet positive_rating\n",
       "0  The combat is turn-based which is not my favor...        Positive\n",
       "1  The constant grind for materials to activate c...        Negative\n",
       "2  I love this game so much. The only mobile game...        Positive\n",
       "3  I love this game. It has amazing story and cha...        Positive\n",
       "4  Decent game overall. Beautiful character and m...        Positive"
      ]
     },
     "execution_count": 217,
     "metadata": {},
     "output_type": "execute_result"
    }
   ],
   "source": [
    "df4.head()"
   ]
  },
  {
   "cell_type": "code",
   "execution_count": 219,
   "id": "5f013b4b-309f-410d-8afb-d37724d3feb8",
   "metadata": {},
   "outputs": [],
   "source": [
    "# save df3 and df4 to csv\n",
    "df3.to_csv(\"Honkai-Star-Rail-EDA.csv\", index=False)\n",
    "df4.to_csv(\"Honkai-Star-Rail-modeling.csv\", index=False)"
   ]
  },
  {
   "cell_type": "code",
   "execution_count": null,
   "id": "145e4f1d-24fe-4e77-b6f7-83bf1aad9254",
   "metadata": {},
   "outputs": [],
   "source": []
  }
 ],
 "metadata": {
  "kernelspec": {
   "display_name": "Python 3 (ipykernel)",
   "language": "python",
   "name": "python3"
  },
  "language_info": {
   "codemirror_mode": {
    "name": "ipython",
    "version": 3
   },
   "file_extension": ".py",
   "mimetype": "text/x-python",
   "name": "python",
   "nbconvert_exporter": "python",
   "pygments_lexer": "ipython3",
   "version": "3.10.13"
  }
 },
 "nbformat": 4,
 "nbformat_minor": 5
}
